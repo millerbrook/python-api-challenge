{
 "cells": [
  {
   "cell_type": "markdown",
   "metadata": {},
   "source": [
    "# WeatherPy\n",
    "----\n",
    "\n",
    "#### Note\n",
    "* Instructions have been included for each segment. You do not have to follow them exactly, but they are included to help you think through the steps."
   ]
  },
  {
   "cell_type": "code",
   "execution_count": 1,
   "metadata": {
    "scrolled": true
   },
   "outputs": [],
   "source": [
    "# Dependencies and Setup\n",
    "\n",
    "import matplotlib.pyplot as plt\n",
    "import pandas as pd\n",
    "import numpy as np\n",
    "import requests\n",
    "import time\n",
    "from scipy.stats import linregress\n",
    "\n",
    "# Import API key\n",
    "from api_keys import weather_api_key\n",
    "\n",
    "# Incorporated citipy to determine city based on latitude and longitude\n",
    "from citipy import citipy\n",
    "\n",
    "# Output File (CSV)\n",
    "output_data_file = \"../output_data/cities.csv\"\n",
    "\n",
    "# Range of latitudes and longitudes\n",
    "lat_range = (-90, 90)\n",
    "lng_range = (-180, 180)\n",
    "\n",
    "#Build partial query URL\n",
    "url = \"http://api.openweathermap.org/data/2.5/weather?q=\"\n",
    "\n"
   ]
  },
  {
   "cell_type": "markdown",
   "metadata": {},
   "source": [
    "## Generate Cities List"
   ]
  },
  {
   "cell_type": "code",
   "execution_count": 2,
   "metadata": {},
   "outputs": [
    {
     "name": "stdout",
     "output_type": "stream",
     "text": [
      "Found 643 cities!\n"
     ]
    }
   ],
   "source": [
    "# List for holding lat_lngs and cities\n",
    "lat_lngs = []\n",
    "cities = []\n",
    "\n",
    "# Create a set of random lat and lng combinations\n",
    "lats = np.random.uniform(lat_range[0], lat_range[1], size=1500)\n",
    "lngs = np.random.uniform(lng_range[0], lng_range[1], size=1500)\n",
    "lat_lngs = zip(lats, lngs)\n",
    "\n",
    "# Identify nearest city for each lat, lng combination\n",
    "for lat_lng in lat_lngs:\n",
    "    city = citipy.nearest_city(lat_lng[0], lat_lng[1]).city_name\n",
    "    \n",
    "    # If the city is unique, then add it to a our cities list\n",
    "    if city not in cities:\n",
    "        cities.append(city)\n",
    "\n",
    "# Print the city count to confirm sufficient count\n",
    "city_num = len(cities)\n",
    "print(f'Found {city_num} cities!')"
   ]
  },
  {
   "cell_type": "markdown",
   "metadata": {},
   "source": [
    "### Perform API Calls\n",
    "* Perform a weather check on each city using a series of successive API calls.\n",
    "* Include a print log of each city as it'sbeing processed (with the city number and city name).\n"
   ]
  },
  {
   "cell_type": "code",
   "execution_count": 3,
   "metadata": {
    "scrolled": true
   },
   "outputs": [
    {
     "name": "stdout",
     "output_type": "stream",
     "text": [
      "Processing data for bredasdorp!\n",
      "Processing data for puerto ayora!\n",
      "Processing data for rikitea!\n",
      "Processing data for mirnyy!\n",
      "Processing data for kahului!\n",
      "Processing data for srisailam!\n",
      "Processing data for simao!\n",
      "Processing data for illoqqortoormiut!\n",
      "Processing data for barahona!\n",
      "Processing data for bethel!\n",
      "Processing data for nanortalik!\n",
      "Processing data for victoria!\n",
      "Processing data for hermanus!\n",
      "Processing data for igarka!\n",
      "Processing data for jish!\n",
      "Processing data for leshukonskoye!\n",
      "Processing data for hobart!\n",
      "Processing data for port elizabeth!\n",
      "Processing data for busselton!\n",
      "Processing data for kruisfontein!\n",
      "Processing data for sitio novo do tocantins!\n",
      "Processing data for charlestown!\n",
      "Processing data for tuatapere!\n",
      "Processing data for geraldton!\n",
      "Processing data for maneadero!\n",
      "Processing data for mataura!\n",
      "Processing data for grand gaube!\n",
      "Processing data for taolanaro!\n",
      "Processing data for saskylakh!\n",
      "Processing data for atasu!\n",
      "Processing data for khatanga!\n",
      "Processing data for mar del plata!\n",
      "Processing data for jalu!\n",
      "Processing data for nassau!\n",
      "Processing data for hilo!\n",
      "Processing data for tasiilaq!\n",
      "Processing data for raudeberg!\n",
      "Processing data for radyvyliv!\n",
      "Processing data for nao-me-toque!\n",
      "Processing data for sakakah!\n",
      "Processing data for vaini!\n",
      "Processing data for balikpapan!\n",
      "Processing data for ushuaia!\n",
      "Processing data for kapaa!\n",
      "Processing data for jablah!\n",
      "Processing data for shitanjing!\n",
      "Processing data for tuktoyaktuk!\n",
      "Processing data for butaritari!\n",
      "Processing data for lebu!\n",
      "Processing data for port alfred!\n",
      "Processing data for narsaq!\n",
      "Processing data for cape town!\n",
      "Processing data for longyearbyen!\n",
      "Processing data for pangnirtung!\n",
      "Processing data for tarakan!\n",
      "Processing data for qaanaaq!\n",
      "Processing data for angangxi!\n",
      "Processing data for albany!\n",
      "Processing data for louisbourg!\n",
      "Processing data for anadyr!\n",
      "Processing data for gazanjyk!\n",
      "Processing data for souillac!\n",
      "Processing data for bjornevatn!\n",
      "Processing data for hoi an!\n",
      "Processing data for sibu!\n",
      "Processing data for rosita!\n",
      "Processing data for castro!\n",
      "Processing data for amderma!\n",
      "Processing data for kalengwa!\n",
      "Processing data for pinheiro machado!\n",
      "Processing data for sentyabrskiy!\n",
      "Processing data for kano!\n",
      "Processing data for farmington!\n",
      "Processing data for tacoronte!\n",
      "Processing data for kilis!\n",
      "Processing data for langham!\n",
      "Processing data for mbanza-ngungu!\n",
      "Processing data for saldanha!\n",
      "Processing data for tiksi!\n",
      "Processing data for okhotsk!\n",
      "Processing data for sampit!\n",
      "Processing data for lompoc!\n",
      "Processing data for bathsheba!\n",
      "Processing data for codrington!\n",
      "Processing data for avarua!\n",
      "Processing data for cherskiy!\n",
      "Processing data for new norfolk!\n",
      "Processing data for thompson!\n",
      "Processing data for saint-philippe!\n",
      "Processing data for severo-kurilsk!\n",
      "Processing data for severo-yeniseyskiy!\n",
      "Processing data for bengkulu!\n",
      "Processing data for la ronge!\n",
      "Processing data for yellowknife!\n",
      "Processing data for north bend!\n",
      "Processing data for atuona!\n",
      "Processing data for vao!\n",
      "Processing data for najran!\n",
      "Processing data for pietarsaari!\n",
      "Processing data for chokurdakh!\n",
      "Processing data for tres lagoas!\n",
      "Processing data for hambantota!\n",
      "Processing data for paamiut!\n",
      "Processing data for kaitangata!\n",
      "Processing data for guerrero negro!\n",
      "Processing data for bambous virieux!\n",
      "Processing data for henties bay!\n",
      "Processing data for mahebourg!\n",
      "Processing data for tumannyy!\n",
      "Processing data for olafsvik!\n",
      "Processing data for punta arenas!\n",
      "Processing data for hofn!\n",
      "Processing data for goya!\n",
      "Processing data for ponta do sol!\n",
      "Processing data for rorvik!\n",
      "Processing data for jamestown!\n",
      "Processing data for provideniya!\n",
      "Processing data for barrow!\n",
      "Processing data for manuk mangkaw!\n",
      "Processing data for kaseda!\n",
      "Processing data for cockburn town!\n",
      "Processing data for sahy!\n",
      "Processing data for muisne!\n",
      "Processing data for fort frances!\n",
      "Processing data for saleaula!\n",
      "Processing data for novaya zaimka!\n",
      "Processing data for yar!\n",
      "Processing data for namibe!\n",
      "Processing data for chuy!\n",
      "Processing data for masumbwe!\n",
      "Processing data for marathon!\n",
      "Processing data for troitsk!\n",
      "Processing data for torbay!\n",
      "Processing data for sesheke!\n",
      "Processing data for haibowan!\n",
      "Processing data for nizhnyaya poyma!\n",
      "Processing data for garissa!\n",
      "Processing data for kulu!\n",
      "Processing data for zhezkazgan!\n",
      "Processing data for port shepstone!\n",
      "Processing data for flinders!\n",
      "Processing data for georgetown!\n",
      "Processing data for praia da vitoria!\n",
      "Processing data for tynda!\n",
      "Processing data for mount isa!\n",
      "Processing data for marcona!\n",
      "Processing data for otane!\n",
      "Processing data for moose jaw!\n",
      "Processing data for attawapiskat!\n",
      "Processing data for lorengau!\n",
      "Processing data for dickinson!\n",
      "Processing data for buala!\n",
      "Processing data for arraial do cabo!\n",
      "Processing data for tazovskiy!\n",
      "Processing data for le havre!\n",
      "Processing data for nouadhibou!\n",
      "Processing data for east london!\n",
      "Processing data for antofagasta!\n",
      "Processing data for barbar!\n",
      "Processing data for barentsburg!\n",
      "Processing data for camacha!\n",
      "Processing data for karpogory!\n",
      "Processing data for kuche!\n",
      "Processing data for xichang!\n",
      "Processing data for mitchell!\n",
      "Processing data for umm durman!\n",
      "Processing data for alice springs!\n",
      "Processing data for salinas!\n",
      "Processing data for naze!\n",
      "Processing data for catamarca!\n",
      "Processing data for faanui!\n",
      "Processing data for maldonado!\n",
      "Processing data for tommot!\n",
      "Processing data for kuusamo!\n",
      "Processing data for dalvik!\n",
      "Processing data for port lincoln!\n",
      "Processing data for kroya!\n",
      "Processing data for ngukurr!\n",
      "Processing data for san quintin!\n",
      "Processing data for norman wells!\n",
      "Processing data for rio claro!\n",
      "Processing data for bluff!\n",
      "Processing data for coquimbo!\n",
      "Processing data for kloulklubed!\n",
      "Processing data for karkaralinsk!\n",
      "Processing data for am timan!\n",
      "Processing data for esik!\n",
      "Processing data for alenquer!\n",
      "Processing data for hobyo!\n",
      "Processing data for trairi!\n",
      "Processing data for vila velha!\n",
      "Processing data for saint-pierre!\n",
      "Processing data for puerto colombia!\n",
      "Processing data for antalaha!\n",
      "Processing data for tura!\n",
      "Processing data for waipawa!\n",
      "Processing data for lagoa!\n",
      "Processing data for leningradskiy!\n",
      "Processing data for mizdah!\n",
      "Processing data for luderitz!\n",
      "Processing data for belushya guba!\n",
      "Processing data for kodiak!\n",
      "Processing data for samarai!\n",
      "Processing data for douentza!\n",
      "Processing data for stepnyak!\n",
      "Processing data for livingston!\n",
      "Processing data for khani!\n",
      "Processing data for zelenogorskiy!\n",
      "Processing data for port blair!\n",
      "Processing data for lagoa vermelha!\n",
      "Processing data for fortuna!\n",
      "Processing data for kvitok!\n",
      "Processing data for muskegon!\n",
      "Processing data for portland!\n",
      "Processing data for leh!\n",
      "Processing data for maputo!\n",
      "Processing data for innisfail!\n",
      "Processing data for paita!\n",
      "Processing data for thinadhoo!\n",
      "Processing data for quesnel!\n",
      "Processing data for iskateley!\n",
      "Processing data for praia!\n",
      "Processing data for pevek!\n",
      "Processing data for rawson!\n",
      "Processing data for avera!\n",
      "Processing data for hof!\n",
      "Processing data for mehamn!\n",
      "Processing data for vestmannaeyjar!\n",
      "Processing data for kostino!\n",
      "Processing data for batagay-alyta!\n",
      "Processing data for marsh harbour!\n",
      "Processing data for svetlogorsk!\n",
      "Processing data for kutum!\n",
      "Processing data for airai!\n",
      "Processing data for ambanja!\n",
      "Processing data for san patricio!\n",
      "Processing data for samusu!\n",
      "Processing data for tacuarembo!\n",
      "Processing data for maghama!\n",
      "Processing data for prince rupert!\n",
      "Processing data for richards bay!\n",
      "Processing data for horodnytsya!\n",
      "Processing data for zhigalovo!\n",
      "Processing data for umtata!\n",
      "Processing data for takab!\n",
      "Processing data for skibbereen!\n",
      "Processing data for yar-sale!\n",
      "Processing data for vaitupu!\n",
      "Processing data for oktyabrskiy!\n",
      "Processing data for hithadhoo!\n",
      "Processing data for artesia!\n",
      "Processing data for caico!\n",
      "Processing data for deniliquin!\n",
      "Processing data for kadykchan!\n",
      "Processing data for kamen-rybolov!\n",
      "Processing data for udachnyy!\n",
      "Processing data for sao filipe!\n",
      "Processing data for sechura!\n",
      "Processing data for susanville!\n",
      "Processing data for harper!\n",
      "Processing data for matagami!\n",
      "Processing data for lasa!\n",
      "Processing data for alofi!\n",
      "Processing data for muleba!\n",
      "Processing data for uruguaiana!\n",
      "Processing data for manacapuru!\n",
      "Processing data for pochutla!\n",
      "Processing data for moree!\n",
      "Processing data for bay roberts!\n",
      "Processing data for esperance!\n"
     ]
    },
    {
     "name": "stdout",
     "output_type": "stream",
     "text": [
      "Processing data for havoysund!\n",
      "Processing data for homer!\n",
      "Processing data for hasaki!\n",
      "Processing data for davenport!\n",
      "Processing data for kyabram!\n",
      "Processing data for lixourion!\n",
      "Processing data for antakya!\n",
      "Processing data for sol-iletsk!\n",
      "Processing data for ginda!\n",
      "Processing data for bairiki!\n",
      "Processing data for nikolskoye!\n",
      "Processing data for upernavik!\n",
      "Processing data for sobolevo!\n",
      "Processing data for cidreira!\n",
      "Processing data for belaya gora!\n",
      "Processing data for kodinsk!\n",
      "Processing data for caramay!\n",
      "Processing data for cozumel!\n",
      "Processing data for sale!\n",
      "Processing data for baykit!\n",
      "Processing data for umzimvubu!\n",
      "Processing data for karaul!\n",
      "Processing data for svetlyy!\n",
      "Processing data for saint-andre-les-vergers!\n",
      "Processing data for emba!\n",
      "Processing data for mairi!\n",
      "Processing data for strezhevoy!\n",
      "Processing data for tecoanapa!\n",
      "Processing data for mount gambier!\n",
      "Processing data for acapulco!\n",
      "Processing data for akyab!\n",
      "Processing data for aguimes!\n",
      "Processing data for bogotol!\n",
      "Processing data for goderich!\n",
      "Processing data for vestbygda!\n",
      "Processing data for mattru!\n",
      "Processing data for helena!\n",
      "Processing data for riva!\n",
      "Processing data for sumbawa!\n",
      "Processing data for asau!\n",
      "Processing data for petatlan!\n",
      "Processing data for dikson!\n",
      "Processing data for pisco!\n",
      "Processing data for fort saint john!\n",
      "Processing data for iganga!\n",
      "Processing data for katsuura!\n",
      "Processing data for tlapacoyan!\n",
      "Processing data for maniitsoq!\n",
      "Processing data for moron!\n",
      "Processing data for tual!\n",
      "Processing data for malwan!\n",
      "Processing data for nunoa!\n",
      "Processing data for moose factory!\n",
      "Processing data for boa vista!\n",
      "Processing data for kasama!\n",
      "Processing data for college!\n",
      "Processing data for lavrentiya!\n",
      "Processing data for grand river south east!\n",
      "Processing data for fare!\n",
      "Processing data for emerald!\n",
      "Processing data for lydenburg!\n",
      "Processing data for turukhansk!\n",
      "Processing data for macae!\n",
      "Processing data for beloha!\n",
      "Processing data for cartagena del chaira!\n",
      "Processing data for steamboat springs!\n",
      "Processing data for prata!\n",
      "Processing data for pokrovsk-uralskiy!\n",
      "Processing data for ntoum!\n",
      "Processing data for den helder!\n",
      "Processing data for cabo san lucas!\n",
      "Processing data for necochea!\n",
      "Processing data for san cristobal!\n",
      "Processing data for helmstedt!\n",
      "Processing data for ilulissat!\n",
      "Processing data for zyryanka!\n",
      "Processing data for redmond!\n",
      "Processing data for usinsk!\n",
      "Processing data for yumen!\n",
      "Processing data for himora!\n",
      "Processing data for adrar!\n",
      "Processing data for kitgum!\n",
      "Processing data for karakose!\n",
      "Processing data for bure!\n",
      "Processing data for ouadda!\n",
      "Processing data for berlevag!\n",
      "Processing data for asyut!\n",
      "Processing data for popondetta!\n",
      "Processing data for batsfjord!\n",
      "Processing data for oga!\n",
      "Processing data for muroto!\n",
      "Processing data for barra patuca!\n",
      "Processing data for nizhneyansk!\n",
      "Processing data for saint george!\n",
      "Processing data for fort wellington!\n",
      "Processing data for seoul!\n",
      "Processing data for ambon!\n",
      "Processing data for bambanglipuro!\n",
      "Processing data for vardo!\n",
      "Processing data for faya!\n",
      "Processing data for kurumkan!\n",
      "Processing data for mersing!\n",
      "Processing data for jauja!\n",
      "Processing data for sao joao da barra!\n",
      "Processing data for halalo!\n",
      "Processing data for araguacu!\n",
      "Processing data for kamenskoye!\n",
      "Processing data for ghanzi!\n",
      "Processing data for iturama!\n",
      "Processing data for bagdarin!\n",
      "Processing data for ribeira grande!\n",
      "Processing data for rungata!\n",
      "Processing data for yingzhong!\n",
      "Processing data for kuytun!\n",
      "Processing data for carnarvon!\n",
      "Processing data for kavieng!\n",
      "Processing data for teya!\n",
      "Processing data for ekhabi!\n",
      "Processing data for malartic!\n",
      "Processing data for gorontalo!\n",
      "Processing data for sitka!\n",
      "Processing data for aban!\n",
      "Processing data for dingle!\n",
      "Processing data for samalaeulu!\n",
      "Processing data for huancabamba!\n",
      "Processing data for caravelas!\n",
      "Processing data for merauke!\n",
      "Processing data for port hardy!\n",
      "Processing data for la linea!\n",
      "Processing data for bereda!\n",
      "Processing data for okuchi!\n",
      "Processing data for ostrovnoy!\n",
      "Processing data for ahipara!\n",
      "Processing data for filingue!\n",
      "Processing data for doha!\n",
      "Processing data for windhoek!\n",
      "Processing data for silver city!\n",
      "Processing data for aklavik!\n",
      "Processing data for vila franca do campo!\n",
      "Processing data for mys shmidta!\n",
      "Processing data for lolua!\n",
      "Processing data for oktyabrskoye!\n",
      "Processing data for turbana!\n",
      "Processing data for saint-leu!\n",
      "Processing data for laguna!\n",
      "Processing data for taoudenni!\n",
      "Processing data for pacific grove!\n",
      "Processing data for warqla!\n",
      "Processing data for manama!\n",
      "Processing data for makung!\n",
      "Processing data for winslow!\n",
      "Processing data for isangel!\n",
      "Processing data for touros!\n",
      "Processing data for tubruq!\n",
      "Processing data for sola!\n",
      "Processing data for the valley!\n",
      "Processing data for ambovombe!\n",
      "Processing data for komsomolskiy!\n",
      "Processing data for formosa do rio preto!\n",
      "Processing data for ancud!\n",
      "Processing data for buraydah!\n",
      "Processing data for semporna!\n",
      "Processing data for iqaluit!\n",
      "Processing data for ortigueira!\n",
      "Processing data for puerto pinasco!\n",
      "Processing data for tambun!\n",
      "Processing data for barawe!\n",
      "Processing data for rong kwang!\n",
      "Processing data for mamallapuram!\n",
      "Processing data for qaqortoq!\n",
      "Processing data for hailar!\n",
      "Processing data for sorland!\n",
      "Processing data for wulanhaote!\n",
      "Processing data for chicama!\n",
      "Processing data for smithers!\n",
      "Processing data for ksenyevka!\n",
      "Processing data for tirano!\n",
      "Processing data for kaabong!\n",
      "Processing data for athabasca!\n",
      "Processing data for meulaboh!\n",
      "Processing data for samoylovka!\n",
      "Processing data for abrau-dyurso!\n",
      "Processing data for kavaratti!\n",
      "Processing data for bonthe!\n",
      "Processing data for agadez!\n",
      "Processing data for grindavik!\n",
      "Processing data for huacho!\n",
      "Processing data for kaya!\n",
      "Processing data for kondinskoye!\n",
      "Processing data for clyde river!\n",
      "Processing data for broken hill!\n",
      "Processing data for camopi!\n",
      "Processing data for kargil!\n",
      "Processing data for dubbo!\n",
      "Processing data for de aar!\n",
      "Processing data for rantepao!\n",
      "Processing data for bosaso!\n",
      "Processing data for tautira!\n",
      "Processing data for moen!\n",
      "Processing data for sartell!\n",
      "Processing data for gornyatskiy!\n",
      "Processing data for sakaiminato!\n",
      "Processing data for nortelandia!\n",
      "Processing data for peniche!\n",
      "Processing data for placido de castro!\n",
      "Processing data for daru!\n",
      "Processing data for vagur!\n",
      "Processing data for russell!\n",
      "Processing data for guanare!\n",
      "Processing data for kovdor!\n",
      "Processing data for huarmey!\n",
      "Processing data for chengde!\n",
      "Processing data for broome!\n",
      "Processing data for mawlaik!\n",
      "Processing data for bayir!\n",
      "Processing data for dunedin!\n",
      "Processing data for lensk!\n",
      "Processing data for lodingen!\n",
      "Processing data for algiers!\n",
      "Processing data for baghdad!\n",
      "Processing data for port dickson!\n",
      "Processing data for moindou!\n",
      "Processing data for angra!\n",
      "Processing data for tsihombe!\n",
      "Processing data for ambilobe!\n",
      "Processing data for macia!\n",
      "Processing data for port hedland!\n",
      "Processing data for gigmoto!\n",
      "Processing data for petropavlovsk-kamchatskiy!\n",
      "Processing data for magadan!\n",
      "Processing data for brindisi!\n",
      "Processing data for port-gentil!\n",
      "Processing data for husavik!\n",
      "Processing data for ranfurly!\n",
      "Processing data for urubicha!\n",
      "Processing data for caloundra!\n",
      "Processing data for shimoda!\n",
      "Processing data for sokoto!\n",
      "Processing data for masty!\n",
      "Processing data for choma!\n",
      "Processing data for kang!\n",
      "Processing data for gemena!\n",
      "Processing data for derzhavinsk!\n",
      "Processing data for christchurch!\n",
      "Processing data for panjwin!\n",
      "Processing data for yelizovo!\n",
      "Processing data for clarksdale!\n",
      "Processing data for olinda!\n",
      "Processing data for lerwick!\n",
      "Processing data for jamame!\n",
      "Processing data for zeya!\n",
      "Processing data for marawi!\n",
      "Processing data for srednekolymsk!\n",
      "Processing data for tocopilla!\n",
      "Processing data for kasempa!\n",
      "Processing data for isla mujeres!\n",
      "Processing data for samarina!\n",
      "Processing data for santana do livramento!\n",
      "Processing data for comodoro rivadavia!\n",
      "Processing data for coxim!\n",
      "Processing data for itarema!\n",
      "Processing data for cooma!\n",
      "Processing data for dryden!\n",
      "Processing data for porto santo!\n",
      "Processing data for cayenne!\n",
      "Processing data for asnaes!\n",
      "Processing data for gobabis!\n",
      "Processing data for fremont!\n",
      "Processing data for boueni!\n",
      "Processing data for ulladulla!\n",
      "Processing data for bhachau!\n",
      "Processing data for kayerkan!\n",
      "Processing data for kishi!\n"
     ]
    },
    {
     "name": "stdout",
     "output_type": "stream",
     "text": [
      "Processing data for galiwinku!\n",
      "Processing data for ardistan!\n",
      "Processing data for san policarpo!\n",
      "Processing data for jibuti!\n",
      "Processing data for marabba!\n",
      "Processing data for pingliang!\n",
      "Processing data for sambava!\n",
      "Processing data for quelimane!\n",
      "Processing data for maceio!\n",
      "Processing data for rovaniemi!\n",
      "Processing data for karamay!\n",
      "Processing data for carolina!\n",
      "Processing data for cheuskiny!\n",
      "Processing data for cuajinicuilapa!\n",
      "Processing data for atakpame!\n",
      "Processing data for kashi!\n",
      "Processing data for kalety!\n",
      "Processing data for rio gallegos!\n",
      "Processing data for krasnyy chikoy!\n",
      "Processing data for dauriya!\n",
      "Processing data for falealupo!\n",
      "Processing data for riyadh!\n",
      "Processing data for leua!\n",
      "Processing data for half moon bay!\n",
      "Processing data for myszkow!\n",
      "Processing data for hun!\n",
      "Processing data for abu samrah!\n",
      "Processing data for murray bridge!\n",
      "Processing data for campbell river!\n",
      "Processing data for coihaique!\n",
      "Processing data for chagda!\n",
      "Processing data for hualmay!\n",
      "Processing data for mecca!\n",
      "Processing data for jabiru!\n",
      "Processing data for yulara!\n",
      "Processing data for sur!\n",
      "Processing data for mayo!\n",
      "Processing data for rodrigues alves!\n",
      "Processing data for tabulbah!\n",
      "Processing data for jujuy!\n",
      "Processing data for arman!\n",
      "Processing data for los banos!\n",
      "Processing data for tomatlan!\n",
      "Processing data for marquette!\n",
      "Processing data for katobu!\n",
      "Processing data for cairns!\n",
      "Processing data for acarau!\n",
      "Processing data for bima!\n",
      "Processing data for oxilithos!\n",
      "Processing data for popovo!\n",
      "Processing data for lodja!\n",
      "Processing data for praya!\n",
      "Processing data for skagastrond!\n",
      "Processing data for kirakira!\n",
      "Processing data for challapata!\n",
      "Processing data for dalbandin!\n",
      "Processing data for chapais!\n",
      "Processing data for oranjemund!\n",
      "Processing data for lazaro cardenas!\n",
      "Processing data for teguldet!\n",
      "Processing data for charters towers!\n",
      "Processing data for gornopravdinsk!\n",
      "Processing data for tulum!\n",
      "Processing data for reporoa!\n",
      "Processing data for disna!\n",
      "Processing data for kazalinsk!\n",
      "Processing data for orsk!\n",
      "Processing data for almaznyy!\n",
      "Processing data for berea!\n",
      "Processing data for bangassou!\n",
      "Processing data for viligili!\n",
      "Processing data for pyay!\n",
      "Processing data for hurghada!\n",
      "Processing data for shakhtinsk!\n",
      "Processing data for turan!\n",
      "Processing data for iquitos!\n",
      "Processing data for korla!\n",
      "Processing data for luancheng!\n",
      "Processing data for huanan!\n",
      "Processing data for nara!\n",
      "Processing data for naliya!\n",
      "Processing data for westport!\n",
      "Processing data for qui nhon!\n",
      "Processing data for santa barbara!\n",
      "Processing data for kaspiyskiy!\n",
      "Processing data for san jeronimo!\n",
      "Processing data for whithorn!\n",
      "Processing data for edson!\n",
      "Processing data for inhambane!\n",
      "Processing data for sorvag!\n",
      "Processing data for evensk!\n",
      "Processing data for nador!\n",
      "Processing data for sinnamary!\n",
      "Processing data for fergus falls!\n",
      "Processing data for tarauaca!\n",
      "Processing data for fairhope!\n",
      "Processing data for schleswig!\n",
      "Processing data for teahupoo!\n",
      "Processing data for beringovskiy!\n",
      "Processing data for maridi!\n"
     ]
    }
   ],
   "source": [
    "lat = []\n",
    "lng = []\n",
    "max_temp = []\n",
    "humidity = []\n",
    "cloudiness = []\n",
    "wind_speed = []\n",
    "country = []\n",
    "date = []\n",
    "\n",
    "for city in cities:\n",
    "    response = requests.get(url + city + '&appid='+weather_api_key).json()\n",
    "    print(f'Processing data for {city}!')\n",
    "    try:\n",
    "        lat.append(response['coord']['lat'])\n",
    "    except:\n",
    "        lat.append('NaN')\n",
    "    try:\n",
    "        lng.append(response['coord']['lon'])\n",
    "    except:\n",
    "        lng.append('NaN')\n",
    "    try:\n",
    "        max_temp.append(response['main']['temp_max'])\n",
    "    except:\n",
    "        max_temp.append('NaN')\n",
    "    try:\n",
    "        humidity.append(response['main']['humidity'])\n",
    "    except:\n",
    "        humidity.append('NaN')\n",
    "    try:\n",
    "        cloudiness.append(response['clouds']['all'])\n",
    "    except:\n",
    "        cloudiness.append('NaN')\n",
    "    try:\n",
    "        wind_speed.append(response['wind']['speed'])\n",
    "    except:\n",
    "        wind_speed.append('NaN')\n",
    "    try:\n",
    "        country.append(response['sys']['country'])\n",
    "    except:\n",
    "        country.append('NaN')\n",
    "    try:    \n",
    "        date.append(response['dt'])\n",
    "    except:\n",
    "        date.append('NaN')"
   ]
  },
  {
   "cell_type": "markdown",
   "metadata": {},
   "source": [
    "### Convert Raw Data to DataFrame\n",
    "* Export the city data into a .csv.\n",
    "* Display the DataFrame"
   ]
  },
  {
   "cell_type": "code",
   "execution_count": 4,
   "metadata": {
    "scrolled": true
   },
   "outputs": [
    {
     "data": {
      "text/html": [
       "<div>\n",
       "<style scoped>\n",
       "    .dataframe tbody tr th:only-of-type {\n",
       "        vertical-align: middle;\n",
       "    }\n",
       "\n",
       "    .dataframe tbody tr th {\n",
       "        vertical-align: top;\n",
       "    }\n",
       "\n",
       "    .dataframe thead th {\n",
       "        text-align: right;\n",
       "    }\n",
       "</style>\n",
       "<table border=\"1\" class=\"dataframe\">\n",
       "  <thead>\n",
       "    <tr style=\"text-align: right;\">\n",
       "      <th></th>\n",
       "      <th>City</th>\n",
       "      <th>Lat</th>\n",
       "      <th>Lng</th>\n",
       "      <th>Max Temp</th>\n",
       "      <th>Humidity</th>\n",
       "      <th>Cloudiness</th>\n",
       "      <th>Wind Speed</th>\n",
       "      <th>Country</th>\n",
       "      <th>Date</th>\n",
       "    </tr>\n",
       "  </thead>\n",
       "  <tbody>\n",
       "    <tr>\n",
       "      <th>0</th>\n",
       "      <td>bredasdorp</td>\n",
       "      <td>-34.5322</td>\n",
       "      <td>20.0403</td>\n",
       "      <td>292.15</td>\n",
       "      <td>88</td>\n",
       "      <td>98</td>\n",
       "      <td>1.54</td>\n",
       "      <td>ZA</td>\n",
       "      <td>1612661936</td>\n",
       "    </tr>\n",
       "    <tr>\n",
       "      <th>1</th>\n",
       "      <td>puerto ayora</td>\n",
       "      <td>-0.7393</td>\n",
       "      <td>-90.3518</td>\n",
       "      <td>298.15</td>\n",
       "      <td>94</td>\n",
       "      <td>66</td>\n",
       "      <td>3.02</td>\n",
       "      <td>EC</td>\n",
       "      <td>1612661936</td>\n",
       "    </tr>\n",
       "    <tr>\n",
       "      <th>2</th>\n",
       "      <td>rikitea</td>\n",
       "      <td>-23.1203</td>\n",
       "      <td>-134.969</td>\n",
       "      <td>299.14</td>\n",
       "      <td>69</td>\n",
       "      <td>73</td>\n",
       "      <td>4.72</td>\n",
       "      <td>PF</td>\n",
       "      <td>1612661936</td>\n",
       "    </tr>\n",
       "    <tr>\n",
       "      <th>3</th>\n",
       "      <td>mirnyy</td>\n",
       "      <td>62.5353</td>\n",
       "      <td>113.961</td>\n",
       "      <td>245.09</td>\n",
       "      <td>88</td>\n",
       "      <td>100</td>\n",
       "      <td>1.6</td>\n",
       "      <td>RU</td>\n",
       "      <td>1612661936</td>\n",
       "    </tr>\n",
       "    <tr>\n",
       "      <th>4</th>\n",
       "      <td>kahului</td>\n",
       "      <td>20.8947</td>\n",
       "      <td>-156.47</td>\n",
       "      <td>299.15</td>\n",
       "      <td>50</td>\n",
       "      <td>40</td>\n",
       "      <td>5.14</td>\n",
       "      <td>US</td>\n",
       "      <td>1612661649</td>\n",
       "    </tr>\n",
       "    <tr>\n",
       "      <th>...</th>\n",
       "      <td>...</td>\n",
       "      <td>...</td>\n",
       "      <td>...</td>\n",
       "      <td>...</td>\n",
       "      <td>...</td>\n",
       "      <td>...</td>\n",
       "      <td>...</td>\n",
       "      <td>...</td>\n",
       "      <td>...</td>\n",
       "    </tr>\n",
       "    <tr>\n",
       "      <th>638</th>\n",
       "      <td>fairhope</td>\n",
       "      <td>30.523</td>\n",
       "      <td>-87.9033</td>\n",
       "      <td>283.15</td>\n",
       "      <td>100</td>\n",
       "      <td>90</td>\n",
       "      <td>3.6</td>\n",
       "      <td>US</td>\n",
       "      <td>1612662023</td>\n",
       "    </tr>\n",
       "    <tr>\n",
       "      <th>639</th>\n",
       "      <td>schleswig</td>\n",
       "      <td>54.5167</td>\n",
       "      <td>9.55</td>\n",
       "      <td>271.15</td>\n",
       "      <td>69</td>\n",
       "      <td>100</td>\n",
       "      <td>9.77</td>\n",
       "      <td>DE</td>\n",
       "      <td>1612662023</td>\n",
       "    </tr>\n",
       "    <tr>\n",
       "      <th>640</th>\n",
       "      <td>teahupoo</td>\n",
       "      <td>-17.8333</td>\n",
       "      <td>-149.267</td>\n",
       "      <td>303.15</td>\n",
       "      <td>62</td>\n",
       "      <td>20</td>\n",
       "      <td>5.66</td>\n",
       "      <td>PF</td>\n",
       "      <td>1612662023</td>\n",
       "    </tr>\n",
       "    <tr>\n",
       "      <th>641</th>\n",
       "      <td>beringovskiy</td>\n",
       "      <td>63.05</td>\n",
       "      <td>179.317</td>\n",
       "      <td>251.22</td>\n",
       "      <td>90</td>\n",
       "      <td>61</td>\n",
       "      <td>5.41</td>\n",
       "      <td>RU</td>\n",
       "      <td>1612662023</td>\n",
       "    </tr>\n",
       "    <tr>\n",
       "      <th>642</th>\n",
       "      <td>maridi</td>\n",
       "      <td>4.9158</td>\n",
       "      <td>29.4742</td>\n",
       "      <td>290.64</td>\n",
       "      <td>27</td>\n",
       "      <td>15</td>\n",
       "      <td>1.84</td>\n",
       "      <td>SS</td>\n",
       "      <td>1612662024</td>\n",
       "    </tr>\n",
       "  </tbody>\n",
       "</table>\n",
       "<p>643 rows × 9 columns</p>\n",
       "</div>"
      ],
      "text/plain": [
       "             City      Lat      Lng Max Temp Humidity Cloudiness Wind Speed  \\\n",
       "0      bredasdorp -34.5322  20.0403   292.15       88         98       1.54   \n",
       "1    puerto ayora  -0.7393 -90.3518   298.15       94         66       3.02   \n",
       "2         rikitea -23.1203 -134.969   299.14       69         73       4.72   \n",
       "3          mirnyy  62.5353  113.961   245.09       88        100        1.6   \n",
       "4         kahului  20.8947  -156.47   299.15       50         40       5.14   \n",
       "..            ...      ...      ...      ...      ...        ...        ...   \n",
       "638      fairhope   30.523 -87.9033   283.15      100         90        3.6   \n",
       "639     schleswig  54.5167     9.55   271.15       69        100       9.77   \n",
       "640      teahupoo -17.8333 -149.267   303.15       62         20       5.66   \n",
       "641  beringovskiy    63.05  179.317   251.22       90         61       5.41   \n",
       "642        maridi   4.9158  29.4742   290.64       27         15       1.84   \n",
       "\n",
       "    Country        Date  \n",
       "0        ZA  1612661936  \n",
       "1        EC  1612661936  \n",
       "2        PF  1612661936  \n",
       "3        RU  1612661936  \n",
       "4        US  1612661649  \n",
       "..      ...         ...  \n",
       "638      US  1612662023  \n",
       "639      DE  1612662023  \n",
       "640      PF  1612662023  \n",
       "641      RU  1612662023  \n",
       "642      SS  1612662024  \n",
       "\n",
       "[643 rows x 9 columns]"
      ]
     },
     "execution_count": 4,
     "metadata": {},
     "output_type": "execute_result"
    }
   ],
   "source": [
    "weather_dict = {\n",
    "    'City': cities,\n",
    "    'Lat': lat,\n",
    "    'Lng': lng,\n",
    "    'Max Temp': max_temp,\n",
    "    'Humidity': humidity,\n",
    "    'Cloudiness': cloudiness,\n",
    "    'Wind Speed': wind_speed,\n",
    "    'Country': country,\n",
    "    'Date': date\n",
    "}\n",
    "weather_df = pd.DataFrame(weather_dict)\n",
    "weather_df.to_csv(output_data_file, index=\"false\")\n",
    "weather_df"
   ]
  },
  {
   "cell_type": "markdown",
   "metadata": {},
   "source": [
    "## Inspect the data and remove the cities where the humidity > 100%.\n",
    "----\n",
    "Skip this step if there are no cities that have humidity > 100%. "
   ]
  },
  {
   "cell_type": "code",
   "execution_count": 5,
   "metadata": {},
   "outputs": [
    {
     "data": {
      "text/html": [
       "<div>\n",
       "<style scoped>\n",
       "    .dataframe tbody tr th:only-of-type {\n",
       "        vertical-align: middle;\n",
       "    }\n",
       "\n",
       "    .dataframe tbody tr th {\n",
       "        vertical-align: top;\n",
       "    }\n",
       "\n",
       "    .dataframe thead th {\n",
       "        text-align: right;\n",
       "    }\n",
       "</style>\n",
       "<table border=\"1\" class=\"dataframe\">\n",
       "  <thead>\n",
       "    <tr style=\"text-align: right;\">\n",
       "      <th></th>\n",
       "      <th>City</th>\n",
       "      <th>Lat</th>\n",
       "      <th>Lng</th>\n",
       "      <th>Max Temp</th>\n",
       "      <th>Humidity</th>\n",
       "      <th>Cloudiness</th>\n",
       "      <th>Wind Speed</th>\n",
       "      <th>Country</th>\n",
       "      <th>Date</th>\n",
       "    </tr>\n",
       "  </thead>\n",
       "  <tbody>\n",
       "    <tr>\n",
       "      <th>0</th>\n",
       "      <td>bredasdorp</td>\n",
       "      <td>-34.5322</td>\n",
       "      <td>20.0403</td>\n",
       "      <td>292.15</td>\n",
       "      <td>88</td>\n",
       "      <td>98</td>\n",
       "      <td>1.54</td>\n",
       "      <td>ZA</td>\n",
       "      <td>1612661936</td>\n",
       "    </tr>\n",
       "    <tr>\n",
       "      <th>1</th>\n",
       "      <td>puerto ayora</td>\n",
       "      <td>-0.7393</td>\n",
       "      <td>-90.3518</td>\n",
       "      <td>298.15</td>\n",
       "      <td>94</td>\n",
       "      <td>66</td>\n",
       "      <td>3.02</td>\n",
       "      <td>EC</td>\n",
       "      <td>1612661936</td>\n",
       "    </tr>\n",
       "    <tr>\n",
       "      <th>2</th>\n",
       "      <td>rikitea</td>\n",
       "      <td>-23.1203</td>\n",
       "      <td>-134.969</td>\n",
       "      <td>299.14</td>\n",
       "      <td>69</td>\n",
       "      <td>73</td>\n",
       "      <td>4.72</td>\n",
       "      <td>PF</td>\n",
       "      <td>1612661936</td>\n",
       "    </tr>\n",
       "    <tr>\n",
       "      <th>3</th>\n",
       "      <td>mirnyy</td>\n",
       "      <td>62.5353</td>\n",
       "      <td>113.961</td>\n",
       "      <td>245.09</td>\n",
       "      <td>88</td>\n",
       "      <td>100</td>\n",
       "      <td>1.6</td>\n",
       "      <td>RU</td>\n",
       "      <td>1612661936</td>\n",
       "    </tr>\n",
       "    <tr>\n",
       "      <th>4</th>\n",
       "      <td>kahului</td>\n",
       "      <td>20.8947</td>\n",
       "      <td>-156.47</td>\n",
       "      <td>299.15</td>\n",
       "      <td>50</td>\n",
       "      <td>40</td>\n",
       "      <td>5.14</td>\n",
       "      <td>US</td>\n",
       "      <td>1612661649</td>\n",
       "    </tr>\n",
       "    <tr>\n",
       "      <th>...</th>\n",
       "      <td>...</td>\n",
       "      <td>...</td>\n",
       "      <td>...</td>\n",
       "      <td>...</td>\n",
       "      <td>...</td>\n",
       "      <td>...</td>\n",
       "      <td>...</td>\n",
       "      <td>...</td>\n",
       "      <td>...</td>\n",
       "    </tr>\n",
       "    <tr>\n",
       "      <th>638</th>\n",
       "      <td>fairhope</td>\n",
       "      <td>30.523</td>\n",
       "      <td>-87.9033</td>\n",
       "      <td>283.15</td>\n",
       "      <td>100</td>\n",
       "      <td>90</td>\n",
       "      <td>3.6</td>\n",
       "      <td>US</td>\n",
       "      <td>1612662023</td>\n",
       "    </tr>\n",
       "    <tr>\n",
       "      <th>639</th>\n",
       "      <td>schleswig</td>\n",
       "      <td>54.5167</td>\n",
       "      <td>9.55</td>\n",
       "      <td>271.15</td>\n",
       "      <td>69</td>\n",
       "      <td>100</td>\n",
       "      <td>9.77</td>\n",
       "      <td>DE</td>\n",
       "      <td>1612662023</td>\n",
       "    </tr>\n",
       "    <tr>\n",
       "      <th>640</th>\n",
       "      <td>teahupoo</td>\n",
       "      <td>-17.8333</td>\n",
       "      <td>-149.267</td>\n",
       "      <td>303.15</td>\n",
       "      <td>62</td>\n",
       "      <td>20</td>\n",
       "      <td>5.66</td>\n",
       "      <td>PF</td>\n",
       "      <td>1612662023</td>\n",
       "    </tr>\n",
       "    <tr>\n",
       "      <th>641</th>\n",
       "      <td>beringovskiy</td>\n",
       "      <td>63.05</td>\n",
       "      <td>179.317</td>\n",
       "      <td>251.22</td>\n",
       "      <td>90</td>\n",
       "      <td>61</td>\n",
       "      <td>5.41</td>\n",
       "      <td>RU</td>\n",
       "      <td>1612662023</td>\n",
       "    </tr>\n",
       "    <tr>\n",
       "      <th>642</th>\n",
       "      <td>maridi</td>\n",
       "      <td>4.9158</td>\n",
       "      <td>29.4742</td>\n",
       "      <td>290.64</td>\n",
       "      <td>27</td>\n",
       "      <td>15</td>\n",
       "      <td>1.84</td>\n",
       "      <td>SS</td>\n",
       "      <td>1612662024</td>\n",
       "    </tr>\n",
       "  </tbody>\n",
       "</table>\n",
       "<p>579 rows × 9 columns</p>\n",
       "</div>"
      ],
      "text/plain": [
       "             City      Lat      Lng Max Temp Humidity Cloudiness Wind Speed  \\\n",
       "0      bredasdorp -34.5322  20.0403   292.15       88         98       1.54   \n",
       "1    puerto ayora  -0.7393 -90.3518   298.15       94         66       3.02   \n",
       "2         rikitea -23.1203 -134.969   299.14       69         73       4.72   \n",
       "3          mirnyy  62.5353  113.961   245.09       88        100        1.6   \n",
       "4         kahului  20.8947  -156.47   299.15       50         40       5.14   \n",
       "..            ...      ...      ...      ...      ...        ...        ...   \n",
       "638      fairhope   30.523 -87.9033   283.15      100         90        3.6   \n",
       "639     schleswig  54.5167     9.55   271.15       69        100       9.77   \n",
       "640      teahupoo -17.8333 -149.267   303.15       62         20       5.66   \n",
       "641  beringovskiy    63.05  179.317   251.22       90         61       5.41   \n",
       "642        maridi   4.9158  29.4742   290.64       27         15       1.84   \n",
       "\n",
       "    Country        Date  \n",
       "0        ZA  1612661936  \n",
       "1        EC  1612661936  \n",
       "2        PF  1612661936  \n",
       "3        RU  1612661936  \n",
       "4        US  1612661649  \n",
       "..      ...         ...  \n",
       "638      US  1612662023  \n",
       "639      DE  1612662023  \n",
       "640      PF  1612662023  \n",
       "641      RU  1612662023  \n",
       "642      SS  1612662024  \n",
       "\n",
       "[579 rows x 9 columns]"
      ]
     },
     "execution_count": 5,
     "metadata": {},
     "output_type": "execute_result"
    }
   ],
   "source": [
    "wet_df = weather_df.loc[weather_df['Humidity'] != 'NaN']\n",
    "dry_df = wet_df.loc[wet_df['Humidity'] <= 100]\n",
    "dry_df #no rows greater than 100% humidity found; filtered out missing data"
   ]
  },
  {
   "cell_type": "code",
   "execution_count": 6,
   "metadata": {},
   "outputs": [],
   "source": [
    "#  Get the indices of cities that have humidity over 100%.\n",
    "# NOTE: no cities with humidity over 100% found"
   ]
  },
  {
   "cell_type": "code",
   "execution_count": 7,
   "metadata": {},
   "outputs": [
    {
     "data": {
      "text/html": [
       "<div>\n",
       "<style scoped>\n",
       "    .dataframe tbody tr th:only-of-type {\n",
       "        vertical-align: middle;\n",
       "    }\n",
       "\n",
       "    .dataframe tbody tr th {\n",
       "        vertical-align: top;\n",
       "    }\n",
       "\n",
       "    .dataframe thead th {\n",
       "        text-align: right;\n",
       "    }\n",
       "</style>\n",
       "<table border=\"1\" class=\"dataframe\">\n",
       "  <thead>\n",
       "    <tr style=\"text-align: right;\">\n",
       "      <th></th>\n",
       "      <th>City</th>\n",
       "      <th>Lat</th>\n",
       "      <th>Lng</th>\n",
       "      <th>Max Temp</th>\n",
       "      <th>Humidity</th>\n",
       "      <th>Cloudiness</th>\n",
       "      <th>Wind Speed</th>\n",
       "      <th>Country</th>\n",
       "      <th>Date</th>\n",
       "    </tr>\n",
       "  </thead>\n",
       "  <tbody>\n",
       "    <tr>\n",
       "      <th>0</th>\n",
       "      <td>bredasdorp</td>\n",
       "      <td>-34.5322</td>\n",
       "      <td>20.0403</td>\n",
       "      <td>292.15</td>\n",
       "      <td>88</td>\n",
       "      <td>98</td>\n",
       "      <td>1.54</td>\n",
       "      <td>ZA</td>\n",
       "      <td>1612661936</td>\n",
       "    </tr>\n",
       "    <tr>\n",
       "      <th>1</th>\n",
       "      <td>puerto ayora</td>\n",
       "      <td>-0.7393</td>\n",
       "      <td>-90.3518</td>\n",
       "      <td>298.15</td>\n",
       "      <td>94</td>\n",
       "      <td>66</td>\n",
       "      <td>3.02</td>\n",
       "      <td>EC</td>\n",
       "      <td>1612661936</td>\n",
       "    </tr>\n",
       "    <tr>\n",
       "      <th>2</th>\n",
       "      <td>rikitea</td>\n",
       "      <td>-23.1203</td>\n",
       "      <td>-134.969</td>\n",
       "      <td>299.14</td>\n",
       "      <td>69</td>\n",
       "      <td>73</td>\n",
       "      <td>4.72</td>\n",
       "      <td>PF</td>\n",
       "      <td>1612661936</td>\n",
       "    </tr>\n",
       "    <tr>\n",
       "      <th>3</th>\n",
       "      <td>mirnyy</td>\n",
       "      <td>62.5353</td>\n",
       "      <td>113.961</td>\n",
       "      <td>245.09</td>\n",
       "      <td>88</td>\n",
       "      <td>100</td>\n",
       "      <td>1.6</td>\n",
       "      <td>RU</td>\n",
       "      <td>1612661936</td>\n",
       "    </tr>\n",
       "    <tr>\n",
       "      <th>4</th>\n",
       "      <td>kahului</td>\n",
       "      <td>20.8947</td>\n",
       "      <td>-156.47</td>\n",
       "      <td>299.15</td>\n",
       "      <td>50</td>\n",
       "      <td>40</td>\n",
       "      <td>5.14</td>\n",
       "      <td>US</td>\n",
       "      <td>1612661649</td>\n",
       "    </tr>\n",
       "    <tr>\n",
       "      <th>...</th>\n",
       "      <td>...</td>\n",
       "      <td>...</td>\n",
       "      <td>...</td>\n",
       "      <td>...</td>\n",
       "      <td>...</td>\n",
       "      <td>...</td>\n",
       "      <td>...</td>\n",
       "      <td>...</td>\n",
       "      <td>...</td>\n",
       "    </tr>\n",
       "    <tr>\n",
       "      <th>638</th>\n",
       "      <td>fairhope</td>\n",
       "      <td>30.523</td>\n",
       "      <td>-87.9033</td>\n",
       "      <td>283.15</td>\n",
       "      <td>100</td>\n",
       "      <td>90</td>\n",
       "      <td>3.6</td>\n",
       "      <td>US</td>\n",
       "      <td>1612662023</td>\n",
       "    </tr>\n",
       "    <tr>\n",
       "      <th>639</th>\n",
       "      <td>schleswig</td>\n",
       "      <td>54.5167</td>\n",
       "      <td>9.55</td>\n",
       "      <td>271.15</td>\n",
       "      <td>69</td>\n",
       "      <td>100</td>\n",
       "      <td>9.77</td>\n",
       "      <td>DE</td>\n",
       "      <td>1612662023</td>\n",
       "    </tr>\n",
       "    <tr>\n",
       "      <th>640</th>\n",
       "      <td>teahupoo</td>\n",
       "      <td>-17.8333</td>\n",
       "      <td>-149.267</td>\n",
       "      <td>303.15</td>\n",
       "      <td>62</td>\n",
       "      <td>20</td>\n",
       "      <td>5.66</td>\n",
       "      <td>PF</td>\n",
       "      <td>1612662023</td>\n",
       "    </tr>\n",
       "    <tr>\n",
       "      <th>641</th>\n",
       "      <td>beringovskiy</td>\n",
       "      <td>63.05</td>\n",
       "      <td>179.317</td>\n",
       "      <td>251.22</td>\n",
       "      <td>90</td>\n",
       "      <td>61</td>\n",
       "      <td>5.41</td>\n",
       "      <td>RU</td>\n",
       "      <td>1612662023</td>\n",
       "    </tr>\n",
       "    <tr>\n",
       "      <th>642</th>\n",
       "      <td>maridi</td>\n",
       "      <td>4.9158</td>\n",
       "      <td>29.4742</td>\n",
       "      <td>290.64</td>\n",
       "      <td>27</td>\n",
       "      <td>15</td>\n",
       "      <td>1.84</td>\n",
       "      <td>SS</td>\n",
       "      <td>1612662024</td>\n",
       "    </tr>\n",
       "  </tbody>\n",
       "</table>\n",
       "<p>579 rows × 9 columns</p>\n",
       "</div>"
      ],
      "text/plain": [
       "             City      Lat      Lng Max Temp Humidity Cloudiness Wind Speed  \\\n",
       "0      bredasdorp -34.5322  20.0403   292.15       88         98       1.54   \n",
       "1    puerto ayora  -0.7393 -90.3518   298.15       94         66       3.02   \n",
       "2         rikitea -23.1203 -134.969   299.14       69         73       4.72   \n",
       "3          mirnyy  62.5353  113.961   245.09       88        100        1.6   \n",
       "4         kahului  20.8947  -156.47   299.15       50         40       5.14   \n",
       "..            ...      ...      ...      ...      ...        ...        ...   \n",
       "638      fairhope   30.523 -87.9033   283.15      100         90        3.6   \n",
       "639     schleswig  54.5167     9.55   271.15       69        100       9.77   \n",
       "640      teahupoo -17.8333 -149.267   303.15       62         20       5.66   \n",
       "641  beringovskiy    63.05  179.317   251.22       90         61       5.41   \n",
       "642        maridi   4.9158  29.4742   290.64       27         15       1.84   \n",
       "\n",
       "    Country        Date  \n",
       "0        ZA  1612661936  \n",
       "1        EC  1612661936  \n",
       "2        PF  1612661936  \n",
       "3        RU  1612661936  \n",
       "4        US  1612661649  \n",
       "..      ...         ...  \n",
       "638      US  1612662023  \n",
       "639      DE  1612662023  \n",
       "640      PF  1612662023  \n",
       "641      RU  1612662023  \n",
       "642      SS  1612662024  \n",
       "\n",
       "[579 rows x 9 columns]"
      ]
     },
     "execution_count": 7,
     "metadata": {},
     "output_type": "execute_result"
    }
   ],
   "source": [
    "# Make a new DataFrame equal to the city data to drop all humidity outliers by index.\n",
    "# Passing \"inplace=False\" will make a copy of the city_data DataFrame, which we call \"clean_city_data\".\n",
    "clean_city_data= dry_df.loc[(dry_df['Lat']!=\"NaN\") \n",
    "                            & (dry_df['Lng']!='NaN') \n",
    "                            & (dry_df['Max Temp']!='NaN')\n",
    "                            & (dry_df['Cloudiness']!='NaN')\n",
    "                            & (dry_df['Wind Speed']!='NaN')\n",
    "                            & (dry_df['Country']!='NaN')\n",
    "                            & (dry_df['Date']!='NaN')\n",
    "                           ]\n",
    "clean_city_data #the cleaning above didn't catch anything weird"
   ]
  },
  {
   "cell_type": "markdown",
   "metadata": {},
   "source": [
    "## Plotting the Data\n",
    "* Use proper labeling of the plots using plot titles (including date of analysis) and axes labels.\n",
    "* Save the plotted figures as .pngs."
   ]
  },
  {
   "cell_type": "markdown",
   "metadata": {},
   "source": [
    "## Latitude vs. Temperature Plot"
   ]
  },
  {
   "cell_type": "code",
   "execution_count": 21,
   "metadata": {
    "scrolled": false
   },
   "outputs": [
    {
     "data": {
      "image/png": "[encoded data removed]",
      "text/plain": [
       "<Figure size 504x504 with 1 Axes>"
      ]
     },
     "metadata": {
      "needs_background": "light"
     },
     "output_type": "display_data"
    }
   ],
   "source": [
    "# Convert the \"Lat\" and 'Max Temp' columns to numeric to ensure the data can be used\n",
    "clean_city_data['Lat'] = pd.to_numeric(clean_city_data['Lat'])\n",
    "clean_city_data['Max Temp'] = pd.to_numeric(clean_city_data['Max Temp'])\n",
    "\n",
    "# Create a scatter plot which compares Latitude to Temperature\n",
    "clean_city_data.plot(kind=\"scatter\", x=\"Lat\", y=\"Max Temp\", grid=True, figsize=(7,7),\n",
    "              title=\"Temperature Vs. Latitude\")\n",
    "plt.savefig(\"../output_data/lat_temp_scatter.png\")\n",
    "plt.show()\n"
   ]
  },
  {
   "cell_type": "markdown",
   "metadata": {},
   "source": [
    "Brief Anaylsis: This graph plots how maximum temperature varies with latitude. It is in Kelvin, which is the automatic format of the API. Because it is winter, northern hemisphere latitudes tend to have lower temperature than their absolute value equivalent southern hemisphere latitudes. The plot bends around the equator, at 0 degrees. Notably, variability in the northern hemisphere is far greater than the southern for this data. Whether this is a typical seasonal difference (that would be reversed in July), or whether the tilt of the earth's axis favors more variability in the northern hemisphere would be interesting to investigate."
   ]
  },
  {
   "cell_type": "markdown",
   "metadata": {},
   "source": [
    "## Latitude vs. Humidity Plot"
   ]
  },
  {
   "cell_type": "code",
   "execution_count": 9,
   "metadata": {},
   "outputs": [
    {
     "data": {
      "image/png": "[encoded data removed]",
      "text/plain": [
       "<Figure size 576x576 with 1 Axes>"
      ]
     },
     "metadata": {
      "needs_background": "light"
     },
     "output_type": "display_data"
    }
   ],
   "source": [
    "# Convert the \"Humidity\" column to numeric to ensure the data can be used\n",
    "clean_city_data['Humidity'] = pd.to_numeric(clean_city_data['Humidity'])\n",
    "\n",
    "# Create a scatter plot which compares Latitude to Temperature\n",
    "clean_city_data.plot(kind=\"scatter\", x=\"Lat\", y=\"Humidity\", grid=True, figsize=(8,8),\n",
    "              title=\"Humidity Vs. Latitude\")\n",
    "plt.show()"
   ]
  },
  {
   "cell_type": "markdown",
   "metadata": {},
   "source": [
    "## Latitude vs. Cloudiness Plot"
   ]
  },
  {
   "cell_type": "code",
   "execution_count": 22,
   "metadata": {
    "scrolled": true
   },
   "outputs": [
    {
     "data": {
      "image/png": "[encoded data removed]",
      "text/plain": [
       "<Figure size 576x576 with 1 Axes>"
      ]
     },
     "metadata": {
      "needs_background": "light"
     },
     "output_type": "display_data"
    }
   ],
   "source": [
    "# Convert the \"Cloudiness\" column to numeric to ensure the data can be used\n",
    "clean_city_data['Cloudiness'] = pd.to_numeric(clean_city_data['Cloudiness'])\n",
    "\n",
    "# Create a scatter plot which compares Latitude to Temperature\n",
    "clean_city_data.plot(kind=\"scatter\", x=\"Lat\", y=\"Cloudiness\", grid=True, figsize=(8,8),\n",
    "              title=\"Cloudiness Vs. Latitude\")\n",
    "plt.savefig(\"../output_data/lat_cloud_scatter.png\")\n",
    "plt.show()"
   ]
  },
  {
   "cell_type": "markdown",
   "metadata": {},
   "source": [
    "This plot seems to reflect inaccurate or imprecise data. The lined up figures suggest that either the OpenWeatherAPI doesn't have granular wind data, or that the calls were not accurate."
   ]
  },
  {
   "cell_type": "markdown",
   "metadata": {},
   "source": [
    "## Latitude vs. Wind Speed Plot"
   ]
  },
  {
   "cell_type": "code",
   "execution_count": 23,
   "metadata": {},
   "outputs": [
    {
     "data": {
      "image/png": "[encoded data removed]",
      "text/plain": [
       "<Figure size 576x576 with 1 Axes>"
      ]
     },
     "metadata": {
      "needs_background": "light"
     },
     "output_type": "display_data"
    }
   ],
   "source": [
    "# Convert the \"Wind Speed\" column to numeric to ensure the data can be used\n",
    "clean_city_data['Wind Speed'] = pd.to_numeric(clean_city_data['Wind Speed'])\n",
    "\n",
    "# Create a scatter plot which compares Latitude to Temperature\n",
    "clean_city_data.plot(kind=\"scatter\", x=\"Lat\", y=\"Wind Speed\", grid=True, figsize=(8,8),\n",
    "              title=\"Wind Speed Vs. Latitude\")\n",
    "plt.savefig(\"../output_data/lat_wind_scatter.png\")\n",
    "plt.show()"
   ]
  },
  {
   "cell_type": "markdown",
   "metadata": {},
   "source": [
    "This plot examines the relationship between wind speed and latitude. It is notable that there are higher wind speeds in high latitudes in winter. Weather patterns such as the famous 'Alberta Clipper,' which drives extreme wind chills across the Midwest, might be partly explained in this data. It would be interesting to see whether there is a rise is number of high wind speeds near the south pole during June - August, when temperatures are colder, and to learn about the temperature/wind speed relationship."
   ]
  },
  {
   "cell_type": "markdown",
   "metadata": {},
   "source": [
    "## Linear Regression"
   ]
  },
  {
   "cell_type": "markdown",
   "metadata": {},
   "source": [
    "Note: for the following graphs, I set latitude as the x-axis because a) it seems more appropriate as the independent variable and b) it allows consistency and potential comparison across the graphs."
   ]
  },
  {
   "cell_type": "code",
   "execution_count": 12,
   "metadata": {},
   "outputs": [],
   "source": [
    "#create separate df's for northern and southern hemispheres\n",
    "north_data = clean_city_data[clean_city_data['Lat'] >= 0] \n",
    "south_data = clean_city_data[clean_city_data['Lat'] < 0]"
   ]
  },
  {
   "cell_type": "markdown",
   "metadata": {},
   "source": [
    "####  Northern Hemisphere - Max Temp vs. Latitude Linear Regression"
   ]
  },
  {
   "cell_type": "code",
   "execution_count": 24,
   "metadata": {
    "scrolled": true
   },
   "outputs": [
    {
     "name": "stdout",
     "output_type": "stream",
     "text": [
      "The r-squared is: 0.7081320264526922\n"
     ]
    },
    {
     "data": {
      "image/png": "[encoded data removed]",
      "text/plain": [
       "<Figure size 432x288 with 1 Axes>"
      ]
     },
     "metadata": {
      "needs_background": "light"
     },
     "output_type": "display_data"
    }
   ],
   "source": [
    "x_values = north_data['Lat']\n",
    "#conver Kelvin to Fahrenheit\n",
    "y_values = (north_data['Max Temp'] - 273.15) * 9/5 +32\n",
    "(slope, intercept, rvalue, pvalue, stderr) = linregress(x_values, y_values)\n",
    "regress_values = x_values * slope + intercept\n",
    "line_eq = \"y = \" + str(round(slope,2)) + \"x + \" + str(round(intercept,2))\n",
    "plt.scatter(x_values,y_values)\n",
    "plt.plot(x_values,regress_values,\"r-\")\n",
    "plt.annotate(line_eq,(0,-20),fontsize=15,color=\"red\")\n",
    "plt.xlabel('Latitude')\n",
    "plt.ylabel('Maximum Temperature')\n",
    "plt.title('Northern Hemisphere- Latitude and Maximum Temp')\n",
    "print(f\"The r-squared is: {rvalue**2}\")\n",
    "plt.savefig(\"../output_data/nh_temp_regress.png\")\n",
    "plt.show()"
   ]
  },
  {
   "cell_type": "markdown",
   "metadata": {},
   "source": [
    "This data, with an r-squared value at ~.7, shows a strong correlation between Northern Hemisphere latitude and max temp. While unsurprising, the regression gives statistical confirmation."
   ]
  },
  {
   "cell_type": "markdown",
   "metadata": {},
   "source": [
    "####  Southern Hemisphere - Max Temp vs. Latitude Linear Regression"
   ]
  },
  {
   "cell_type": "code",
   "execution_count": 25,
   "metadata": {
    "scrolled": true
   },
   "outputs": [
    {
     "name": "stdout",
     "output_type": "stream",
     "text": [
      "The r-squared is: 0.18478560036063474\n"
     ]
    },
    {
     "data": {
      "image/png": "[encoded data removed]",
      "text/plain": [
       "<Figure size 432x288 with 1 Axes>"
      ]
     },
     "metadata": {
      "needs_background": "light"
     },
     "output_type": "display_data"
    }
   ],
   "source": [
    "x_values = south_data['Lat']\n",
    "#Convert Kelvin to Fahrenheit\n",
    "y_values = (south_data['Max Temp'] - 273.15) *9/5 +32\n",
    "(slope, intercept, rvalue, pvalue, stderr) = linregress(x_values, y_values)\n",
    "regress_values = x_values * slope + intercept\n",
    "line_eq = \"y = \" + str(round(slope,2)) + \"x + \" + str(round(intercept,2))\n",
    "plt.scatter(x_values,y_values)\n",
    "plt.plot(x_values,regress_values,\"r-\")\n",
    "plt.annotate(line_eq,(-50,90),fontsize=15,color=\"red\")\n",
    "plt.xlabel('Latitude')\n",
    "plt.ylabel('Maximum Temperature')\n",
    "plt.title('Southern Hemisphere- Latitude and Maximum Temp')\n",
    "print(f\"The r-squared is: {rvalue**2}\")\n",
    "plt.savefig(\"../output_data/sh_temp_regress.png\")\n",
    "plt.show()"
   ]
  },
  {
   "cell_type": "markdown",
   "metadata": {},
   "source": [
    "This data, with an r-squared value near .3, is suprising insofar as latitude and maximum temperature do not have a strong correlation. In summer months, what other factors determine maximum temperatures if latitude is relatively less important than in winter?"
   ]
  },
  {
   "cell_type": "markdown",
   "metadata": {},
   "source": [
    "####  Northern Hemisphere - Humidity (%) vs. Latitude Linear Regression"
   ]
  },
  {
   "cell_type": "code",
   "execution_count": 26,
   "metadata": {},
   "outputs": [
    {
     "name": "stdout",
     "output_type": "stream",
     "text": [
      "The r-squared is: 0.0903523117183381\n"
     ]
    },
    {
     "data": {
      "image/png": "[encoded data removed]",
      "text/plain": [
       "<Figure size 432x288 with 1 Axes>"
      ]
     },
     "metadata": {
      "needs_background": "light"
     },
     "output_type": "display_data"
    }
   ],
   "source": [
    "x_values = north_data['Lat']\n",
    "y_values = north_data['Humidity']\n",
    "(slope, intercept, rvalue, pvalue, stderr) = linregress(x_values, y_values)\n",
    "regress_values = x_values * slope + intercept\n",
    "line_eq = \"y = \" + str(round(slope,2)) + \"x + \" + str(round(intercept,2))\n",
    "plt.scatter(x_values,y_values)\n",
    "plt.plot(x_values,regress_values,\"r-\")\n",
    "plt.annotate(line_eq,(50,30),fontsize=15,color=\"red\")\n",
    "plt.xlabel('Latitude')\n",
    "plt.ylabel('Humidity')\n",
    "plt.title('Northern Hemisphere- Latitude and Humidity (%)')\n",
    "print(f\"The r-squared is: {rvalue**2}\")\n",
    "plt.savefig(\"../output_data/nh_humid_regress.png\")\n",
    "plt.show()"
   ]
  },
  {
   "cell_type": "markdown",
   "metadata": {},
   "source": [
    "with an r-squared near .1, there is little relationship demonstrated in this data between humidity and latitude. To explain humidity, we should study other factors."
   ]
  },
  {
   "cell_type": "markdown",
   "metadata": {},
   "source": [
    "####  Southern Hemisphere - Humidity (%) vs. Latitude Linear Regression"
   ]
  },
  {
   "cell_type": "code",
   "execution_count": 27,
   "metadata": {},
   "outputs": [
    {
     "name": "stdout",
     "output_type": "stream",
     "text": [
      "The r-squared is: 0.09692353344197129\n"
     ]
    },
    {
     "data": {
      "image/png": "[encoded data removed]",
      "text/plain": [
       "<Figure size 432x288 with 1 Axes>"
      ]
     },
     "metadata": {
      "needs_background": "light"
     },
     "output_type": "display_data"
    }
   ],
   "source": [
    "x_values = south_data['Lat']\n",
    "y_values = south_data['Humidity']\n",
    "(slope, intercept, rvalue, pvalue, stderr) = linregress(x_values, y_values)\n",
    "regress_values = x_values * slope + intercept\n",
    "line_eq = \"y = \" + str(round(slope,2)) + \"x + \" + str(round(intercept,2))\n",
    "plt.scatter(x_values,y_values)\n",
    "plt.plot(x_values,regress_values,\"r-\")\n",
    "plt.annotate(line_eq,(-30,20),fontsize=15,color=\"red\")\n",
    "plt.xlabel('Latitude')\n",
    "plt.ylabel('Humidity')\n",
    "plt.title('Southern Hemisphere- Latitude and Humidity (%)')\n",
    "print(f\"The r-squared is: {rvalue**2}\")\n",
    "plt.savefig(\"../output_data/sh_humid_regress.png\")\n",
    "plt.show()"
   ]
  },
  {
   "cell_type": "markdown",
   "metadata": {},
   "source": [
    "With an r-squared value near .1, this shows, like the counterpart plot above, little correlation between humidity and latitude."
   ]
  },
  {
   "cell_type": "markdown",
   "metadata": {},
   "source": [
    "####  Northern Hemisphere - Cloudiness (%) vs. Latitude Linear Regression"
   ]
  },
  {
   "cell_type": "code",
   "execution_count": 28,
   "metadata": {},
   "outputs": [
    {
     "name": "stdout",
     "output_type": "stream",
     "text": [
      "The r-squared is: 0.05472037871776237\n"
     ]
    },
    {
     "data": {
      "image/png": "[encoded data removed]",
      "text/plain": [
       "<Figure size 432x288 with 1 Axes>"
      ]
     },
     "metadata": {
      "needs_background": "light"
     },
     "output_type": "display_data"
    }
   ],
   "source": [
    "x_values = north_data['Lat']\n",
    "y_values = north_data['Cloudiness']\n",
    "(slope, intercept, rvalue, pvalue, stderr) = linregress(x_values, y_values)\n",
    "regress_values = x_values * slope + intercept\n",
    "line_eq = \"y = \" + str(round(slope,2)) + \"x + \" + str(round(intercept,2))\n",
    "plt.scatter(x_values,y_values)\n",
    "plt.plot(x_values,regress_values,\"r-\")\n",
    "plt.annotate(line_eq,(0,50),fontsize=15,color=\"red\")\n",
    "plt.xlabel('Latitude')\n",
    "plt.ylabel('Cloudiness')\n",
    "plt.title('Northern Hemisphere- Latitude and Cloudiness (%)')\n",
    "print(f\"The r-squared is: {rvalue**2}\")\n",
    "plt.savefig(\"../output_data/nh_cloud_regress.png\")\n",
    "plt.show()"
   ]
  },
  {
   "cell_type": "markdown",
   "metadata": {},
   "source": [
    "With an r-squared value < .1, this shows very little correlation betweeen latitude and cloudiness in the Northern Hemisphere. "
   ]
  },
  {
   "cell_type": "markdown",
   "metadata": {},
   "source": [
    "####  Southern Hemisphere - Cloudiness (%) vs. Latitude Linear Regression"
   ]
  },
  {
   "cell_type": "code",
   "execution_count": 29,
   "metadata": {
    "scrolled": true
   },
   "outputs": [
    {
     "name": "stdout",
     "output_type": "stream",
     "text": [
      "The r-squared is: 0.09504198307836319\n"
     ]
    },
    {
     "data": {
      "image/png": "[encoded data removed]",
      "text/plain": [
       "<Figure size 432x288 with 1 Axes>"
      ]
     },
     "metadata": {
      "needs_background": "light"
     },
     "output_type": "display_data"
    }
   ],
   "source": [
    "x_values = south_data['Lat']\n",
    "y_values = south_data['Cloudiness']\n",
    "(slope, intercept, rvalue, pvalue, stderr) = linregress(x_values, y_values)\n",
    "regress_values = x_values * slope + intercept\n",
    "line_eq = \"y = \" + str(round(slope,2)) + \"x + \" + str(round(intercept,2))\n",
    "plt.scatter(x_values,y_values)\n",
    "plt.plot(x_values,regress_values,\"r-\")\n",
    "plt.annotate(line_eq,(0,50),fontsize=15,color=\"red\")\n",
    "plt.xlabel('Latitude')\n",
    "plt.ylabel('Cloudiness')\n",
    "plt.title('Southern Hemisphere- Latitude and Cloudiness (%)')\n",
    "print(f\"The r-squared is: {rvalue**2}\")\n",
    "plt.savefig(\"../output_data/sh_cloud_regress.png\")\n",
    "plt.show()"
   ]
  },
  {
   "cell_type": "markdown",
   "metadata": {},
   "source": [
    "With an r-squared value just over .1, this shows very little correlation betweeen latitude and cloudiness in the Southern Hemisphere. "
   ]
  },
  {
   "cell_type": "markdown",
   "metadata": {},
   "source": [
    "####  Northern Hemisphere - Wind Speed (mph) vs. Latitude Linear Regression"
   ]
  },
  {
   "cell_type": "code",
   "execution_count": 30,
   "metadata": {},
   "outputs": [
    {
     "name": "stdout",
     "output_type": "stream",
     "text": [
      "The r-squared is: 0.057533941629412194\n"
     ]
    },
    {
     "data": {
      "image/png": "[encoded data removed]",
      "text/plain": [
       "<Figure size 432x288 with 1 Axes>"
      ]
     },
     "metadata": {
      "needs_background": "light"
     },
     "output_type": "display_data"
    }
   ],
   "source": [
    "x_values = north_data['Lat']\n",
    "y_values = north_data['Wind Speed']\n",
    "(slope, intercept, rvalue, pvalue, stderr) = linregress(x_values, y_values)\n",
    "regress_values = x_values * slope + intercept\n",
    "line_eq = \"y = \" + str(round(slope,2)) + \"x + \" + str(round(intercept,2))\n",
    "plt.scatter(x_values,y_values)\n",
    "plt.plot(x_values,regress_values,\"r-\")\n",
    "plt.annotate(line_eq,(0,15),fontsize=15,color=\"red\")\n",
    "plt.xlabel('Latitude')\n",
    "plt.ylabel('Wind Speed')\n",
    "plt.title('Northern Hemisphere- Latitude and Wind Speed (mph)')\n",
    "print(f\"The r-squared is: {rvalue**2}\")\n",
    "plt.savefig(\"../output_data/nh_wind_regress.png\")\n",
    "plt.show()"
   ]
  },
  {
   "cell_type": "markdown",
   "metadata": {},
   "source": [
    "With an r-squared value of ~.02, this demonstrates little correlation between wind speed and latitude. It is notable, however, that all wind speeds over 12 appear to be in latitudes over 50, and the bulk of high wind speeds are in latitudes above 40. there is also high density of low wind speed around latitude 40."
   ]
  },
  {
   "cell_type": "markdown",
   "metadata": {},
   "source": [
    "####  Southern Hemisphere - Wind Speed (mph) vs. Latitude Linear Regression"
   ]
  },
  {
   "cell_type": "code",
   "execution_count": 31,
   "metadata": {
    "scrolled": true
   },
   "outputs": [
    {
     "name": "stdout",
     "output_type": "stream",
     "text": [
      "The r-squared is: 0.04984372734934175\n"
     ]
    },
    {
     "data": {
      "image/png": "[encoded data removed]",
      "text/plain": [
       "<Figure size 432x288 with 1 Axes>"
      ]
     },
     "metadata": {
      "needs_background": "light"
     },
     "output_type": "display_data"
    }
   ],
   "source": [
    "x_values = south_data['Lat']\n",
    "y_values = south_data['Wind Speed']\n",
    "(slope, intercept, rvalue, pvalue, stderr) = linregress(x_values, y_values)\n",
    "regress_values = x_values * slope + intercept\n",
    "line_eq = \"y = \" + str(round(slope,2)) + \"x + \" + str(round(intercept,2))\n",
    "plt.scatter(x_values,y_values)\n",
    "plt.plot(x_values,regress_values,\"r-\")\n",
    "plt.annotate(line_eq,(-30,12),fontsize=15,color=\"red\")\n",
    "plt.xlabel('Latitude')\n",
    "plt.ylabel('Wind Speed')\n",
    "plt.title('Southern Hemisphere- Latitude and Wind Speed (mph)')\n",
    "print(f\"The r-squared is: {rvalue**2}\")\n",
    "plt.savefig(\"../output_data/sh_wind_regress.png\")\n",
    "plt.show()"
   ]
  },
  {
   "cell_type": "markdown",
   "metadata": {},
   "source": [
    "With an r-squared value ~.03, this shows little correlation between wind speed and latitude in the southern hemisphere. the gentle slope of the line suggests this as well, although there are relatively few data points here."
   ]
  }
 ],
 "metadata": {
  "anaconda-cloud": {},
  "kernel_info": {
   "name": "python3"
  },
  "kernelspec": {
   "display_name": "Python 3",
   "language": "python",
   "name": "python3"
  },
  "language_info": {
   "codemirror_mode": {
    "name": "ipython",
    "version": 3
   },
   "file_extension": ".py",
   "mimetype": "text/x-python",
   "name": "python",
   "nbconvert_exporter": "python",
   "pygments_lexer": "ipython3",
   "version": "3.6.10"
  },
  "latex_envs": {
   "LaTeX_envs_menu_present": true,
   "autoclose": false,
   "autocomplete": true,
   "bibliofile": "biblio.bib",
   "cite_by": "apalike",
   "current_citInitial": 1,
   "eqLabelWithNumbers": true,
   "eqNumInitial": 1,
   "hotkeys": {
    "equation": "Ctrl-E",
    "itemize": "Ctrl-I"
   },
   "labels_anchors": false,
   "latex_user_defs": false,
   "report_style_numbering": false,
   "user_envs_cfg": false
  },
  "nteract": {
   "version": "0.12.3"
  }
 },
 "nbformat": 4,
 "nbformat_minor": 2
}
